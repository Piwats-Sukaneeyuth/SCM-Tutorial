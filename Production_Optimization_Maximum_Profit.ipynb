{
  "nbformat": 4,
  "nbformat_minor": 0,
  "metadata": {
    "colab": {
      "provenance": [],
      "authorship_tag": "ABX9TyP1FU0NSbQDVjdJZ64WLrtp"
    },
    "kernelspec": {
      "name": "python3",
      "display_name": "Python 3"
    },
    "language_info": {
      "name": "python"
    }
  },
  "cells": [
    {
      "cell_type": "markdown",
      "source": [
        "# Production Optimization - Maximum Profit\n",
        "\n",
        "* This code sets up and solves a linear programming problem where the goal is to maximize the total profit from producing and selling products. The profit is calculated by subtracting the production cost from the selling price and multiplying by the quantity produced. Constraints are added to ensure production stays within capacity limits and meets minimum demand requirements. The solution gives the optimal production quantities for each product to achieve maximum profit."
      ],
      "metadata": {
        "id": "Ue2DS7DKGWao"
      }
    },
    {
      "cell_type": "code",
      "source": [
        "pip install pulp"
      ],
      "metadata": {
        "colab": {
          "base_uri": "https://localhost:8080/"
        },
        "id": "6wIsDgvgL0Ep",
        "outputId": "e60ab007-0c7c-472c-9961-24ae8205be83"
      },
      "execution_count": 1,
      "outputs": [
        {
          "output_type": "stream",
          "name": "stdout",
          "text": [
            "Collecting pulp\n",
            "  Downloading PuLP-2.8.0-py3-none-any.whl (17.7 MB)\n",
            "\u001b[2K     \u001b[90m━━━━━━━━━━━━━━━━━━━━━━━━━━━━━━━━━━━━━━━━\u001b[0m \u001b[32m17.7/17.7 MB\u001b[0m \u001b[31m31.0 MB/s\u001b[0m eta \u001b[36m0:00:00\u001b[0m\n",
            "\u001b[?25hInstalling collected packages: pulp\n",
            "Successfully installed pulp-2.8.0\n"
          ]
        }
      ]
    },
    {
      "cell_type": "code",
      "source": [
        "import pulp"
      ],
      "metadata": {
        "id": "Ns1dzl6QClnj"
      },
      "execution_count": 2,
      "outputs": []
    },
    {
      "cell_type": "code",
      "source": [
        "# Define the data for the problem\n",
        "products = [\"Product_1\", \"Product_2\", \"Product_3\"]\n",
        "\n",
        "# Selling prices for the products\n",
        "selling_prices = {\n",
        "    \"Product_1\": 20,\n",
        "    \"Product_2\": 30,\n",
        "    \"Product_3\": 50\n",
        "}\n",
        "\n",
        "# Costs to produce each product\n",
        "costs = {\n",
        "    \"Product_1\": 10,\n",
        "    \"Product_2\": 15,\n",
        "    \"Product_3\": 25\n",
        "}\n",
        "\n",
        "# Maximum production capacity for each product\n",
        "max_production = {\n",
        "    \"Product_1\": 100,\n",
        "    \"Product_2\": 150,\n",
        "    \"Product_3\": 200\n",
        "}\n",
        "\n",
        "# Minimum demand for each product\n",
        "min_demand = {\n",
        "    \"Product_1\": 50,\n",
        "    \"Product_2\": 80,\n",
        "    \"Product_3\": 100\n",
        "}"
      ],
      "metadata": {
        "id": "GaDx7MbtZB0m"
      },
      "execution_count": 3,
      "outputs": []
    },
    {
      "cell_type": "markdown",
      "source": [
        "* products: A list of products.\n",
        "* selling_prices: A dictionary where each product is associated with its selling price.\n",
        "* costs: A dictionary where each product is associated with its production cost.\n",
        "* max_production: A dictionary where each product is associated with its maximum production capacity.\n",
        "* min_demand: A dictionary where each product is associated with its minimum demand."
      ],
      "metadata": {
        "id": "rOnlRMDxHOgR"
      }
    },
    {
      "cell_type": "code",
      "source": [
        "# Define the optimization problem\n",
        "problem = pulp.LpProblem(\"Production_Optimization\", pulp.LpMaximize)"
      ],
      "metadata": {
        "id": "WX_X39QlrMEp"
      },
      "execution_count": 4,
      "outputs": []
    },
    {
      "cell_type": "markdown",
      "source": [
        "* problem: Creates a linear programming problem named \"Production_Optimization\" with the goal to maximize the objective function."
      ],
      "metadata": {
        "id": "WChsM3S7SOyb"
      }
    },
    {
      "cell_type": "code",
      "source": [
        "# Define the decision variables\n",
        "quantities = pulp.LpVariable.dicts(\"Quantity\", products, lowBound=0, cat='Continuous')"
      ],
      "metadata": {
        "id": "Rbq2BoZprNRf"
      },
      "execution_count": 5,
      "outputs": []
    },
    {
      "cell_type": "markdown",
      "source": [
        "* quantities: A dictionary of decision variables representing the quantity to produce for each product. The variables are continuous and have a lower bound of 0."
      ],
      "metadata": {
        "id": "DyeZyUNtEcC9"
      }
    },
    {
      "cell_type": "code",
      "source": [
        "# Objective function: Maximize total profit\n",
        "# Profit = (Selling Price - Cost) * Quantity\n",
        "profit = pulp.lpSum((selling_prices[i] - costs[i]) * quantities[i] for i in products)\n",
        "problem += profit, \"Total Profit\""
      ],
      "metadata": {
        "id": "9uoGS3tsrOGc"
      },
      "execution_count": 6,
      "outputs": []
    },
    {
      "cell_type": "markdown",
      "source": [
        "* profit: Represents the total profit, calculated as the sum of the profit per unit (selling price minus cost) times the quantity produced for each product.\n",
        "problem += profit: Adds the objective function to the problem, specifying that it should be maximized.\n",
        "* \"Total Profit\" is a name given to this objective function."
      ],
      "metadata": {
        "id": "Pzk6RDbvCt3y"
      }
    },
    {
      "cell_type": "code",
      "source": [
        "# Constraints: Production limits\n",
        "for i in products:\n",
        "    problem += quantities[i] <= max_production[i], f\"Max_Production_{i}\"\n",
        "\n",
        "# Constraints: Minimum demand\n",
        "for i in products:\n",
        "    problem += quantities[i] >= min_demand[i], f\"Min_Demand_{i}\""
      ],
      "metadata": {
        "id": "RJSpD2pIrO_F"
      },
      "execution_count": 7,
      "outputs": []
    },
    {
      "cell_type": "markdown",
      "source": [
        "* Max Production Constraint: Ensures that the quantity produced for each product does not exceed its maximum production capacity.\n",
        "* Min Demand Constraint: Ensures that the quantity produced for each product meets its minimum demand."
      ],
      "metadata": {
        "id": "oQNq_WehIddA"
      }
    },
    {
      "cell_type": "code",
      "source": [
        "# Solve the problem\n",
        "problem.solve()"
      ],
      "metadata": {
        "colab": {
          "base_uri": "https://localhost:8080/"
        },
        "id": "zX9EeUPurQ7p",
        "outputId": "2763c47c-59b4-4941-d7e7-3d1521a42a01"
      },
      "execution_count": 8,
      "outputs": [
        {
          "output_type": "execute_result",
          "data": {
            "text/plain": [
              "1"
            ]
          },
          "metadata": {},
          "execution_count": 8
        }
      ]
    },
    {
      "cell_type": "code",
      "source": [
        "# Print the results\n",
        "print(\"Status:\", pulp.LpStatus[problem.status])\n",
        "\n",
        "for i in products:\n",
        "    print(f\"{i}: Quantity = {quantities[i].varValue}, Profit per unit = {selling_prices[i] - costs[i]}\")\n",
        "\n",
        "print(\"Total Profit = \", pulp.value(problem.objective))"
      ],
      "metadata": {
        "colab": {
          "base_uri": "https://localhost:8080/"
        },
        "id": "L4JzTEKjrSEc",
        "outputId": "82b0db44-2f89-470d-da2d-ed317a393295"
      },
      "execution_count": 9,
      "outputs": [
        {
          "output_type": "stream",
          "name": "stdout",
          "text": [
            "Status: Optimal\n",
            "Product_1: Quantity = 100.0, Profit per unit = 10\n",
            "Product_2: Quantity = 150.0, Profit per unit = 15\n",
            "Product_3: Quantity = 200.0, Profit per unit = 25\n",
            "Total Profit =  8250.0\n"
          ]
        }
      ]
    },
    {
      "cell_type": "markdown",
      "source": [
        "* pulp.LpStatus[problem.status]: Prints the status of the solution (e.g., Optimal).\n",
        "* quantities[i].varValue: Prints the optimal quantity to produce for each product.\n",
        "* pulp.value(problem.objective): Prints the total cost associated with the optimal solution."
      ],
      "metadata": {
        "id": "xEkmVmDUIttC"
      }
    }
  ]
}