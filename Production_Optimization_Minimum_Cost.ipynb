{
  "nbformat": 4,
  "nbformat_minor": 0,
  "metadata": {
    "colab": {
      "provenance": [],
      "authorship_tag": "ABX9TyN3V+JGt6Zo9xQlKdfe4wNI",
      "include_colab_link": true
    },
    "kernelspec": {
      "name": "python3",
      "display_name": "Python 3"
    },
    "language_info": {
      "name": "python"
    }
  },
  "cells": [
    {
      "cell_type": "markdown",
      "metadata": {
        "id": "view-in-github",
        "colab_type": "text"
      },
      "source": [
        "<a href=\"https://colab.research.google.com/github/Piwats-Sukaneeyuth/SCM-Tutorial/blob/main/Production_Optimization_Minimum_Cost.ipynb\" target=\"_parent\"><img src=\"https://colab.research.google.com/assets/colab-badge.svg\" alt=\"Open In Colab\"/></a>"
      ]
    },
    {
      "cell_type": "markdown",
      "source": [
        "# Production Optimization - Minimum Cost\n",
        "\n",
        "* This code is using the PuLP library to solve a linear programming problem where the goal is to minimize the total production cost while meeting minimum demand and not exceeding maximum production capacity for each product."
      ],
      "metadata": {
        "id": "Ue2DS7DKGWao"
      }
    },
    {
      "cell_type": "code",
      "source": [
        "pip install pulp"
      ],
      "metadata": {
        "colab": {
          "base_uri": "https://localhost:8080/"
        },
        "id": "6wIsDgvgL0Ep",
        "outputId": "6060da5e-ae29-4331-8ff1-1f785c92ac75"
      },
      "execution_count": 100,
      "outputs": [
        {
          "output_type": "stream",
          "name": "stdout",
          "text": [
            "Requirement already satisfied: pulp in /usr/local/lib/python3.10/dist-packages (2.8.0)\n"
          ]
        }
      ]
    },
    {
      "cell_type": "code",
      "source": [
        "import pulp"
      ],
      "metadata": {
        "id": "Ns1dzl6QClnj"
      },
      "execution_count": 101,
      "outputs": []
    },
    {
      "cell_type": "code",
      "source": [
        "# Define the data for the problem\n",
        "products = [\"Product_1\", \"Product_2\", \"Product_3\"]\n",
        "\n",
        "# Costs to produce each product\n",
        "costs = {\n",
        "    \"Product_1\": 10,\n",
        "    \"Product_2\": 15,\n",
        "    \"Product_3\": 25\n",
        "}\n",
        "\n",
        "# Maximum production capacity for each product\n",
        "max_production = {\n",
        "    \"Product_1\": 100,\n",
        "    \"Product_2\": 150,\n",
        "    \"Product_3\": 200\n",
        "}\n",
        "\n",
        "# Minimum demand for each product\n",
        "min_demand = {\n",
        "    \"Product_1\": 50,\n",
        "    \"Product_2\": 80,\n",
        "    \"Product_3\": 100\n",
        "}"
      ],
      "metadata": {
        "id": "GaDx7MbtZB0m"
      },
      "execution_count": 102,
      "outputs": []
    },
    {
      "cell_type": "markdown",
      "source": [
        "* products: A list of products.\n",
        "* costs: A dictionary where each product is associated with its production cost.\n",
        "* max_production: A dictionary where each product is associated with its maximum production capacity.\n",
        "* min_demand: A dictionary where each product is associated with its minimum demand."
      ],
      "metadata": {
        "id": "rOnlRMDxHOgR"
      }
    },
    {
      "cell_type": "code",
      "source": [
        "# Define the optimization problem\n",
        "problem = pulp.LpProblem(\"Production_Optimization\",\n",
        "                         pulp.LpMinimize)\n"
      ],
      "metadata": {
        "id": "WX_X39QlrMEp"
      },
      "execution_count": 103,
      "outputs": []
    },
    {
      "cell_type": "code",
      "source": [
        "# Define the decision variables\n",
        "quantities = pulp.LpVariable.dicts(\"Quantity\",\n",
        "                                   products,\n",
        "                                   lowBound=0,\n",
        "                                   cat='Continuous')\n"
      ],
      "metadata": {
        "id": "Rbq2BoZprNRf"
      },
      "execution_count": 104,
      "outputs": []
    },
    {
      "cell_type": "markdown",
      "source": [
        "* quantities: A dictionary of decision variables representing the quantity to produce for each product. The variables are continuous and have a lower bound of 0."
      ],
      "metadata": {
        "id": "DyeZyUNtEcC9"
      }
    },
    {
      "cell_type": "code",
      "source": [
        "# Objective function: Minimize total cost\n",
        "# Total Cost = Sum of (Cost * Quantity) for each product\n",
        "total_cost = pulp.lpSum(costs[i] * quantities[i] for i in products)\n",
        "problem += total_cost, \"Total Cost\"\n"
      ],
      "metadata": {
        "id": "9uoGS3tsrOGc"
      },
      "execution_count": 105,
      "outputs": []
    },
    {
      "cell_type": "markdown",
      "source": [
        "* total_cost: Represents the total production cost, which is the sum of the cost per unit times the quantity produced for each product.\n",
        "problem += total_cost: Adds the objective function to the problem, specifying that it should be minimized.\n",
        "* \"Total Cost\" is a name given to this objective function."
      ],
      "metadata": {
        "id": "Pzk6RDbvCt3y"
      }
    },
    {
      "cell_type": "code",
      "source": [
        "# Constraints: Production limits\n",
        "for i in products:\n",
        "    problem += quantities[i] <= max_production[i], f\"Max_Production_{i}\"\n",
        "\n",
        "# Constraints: Minimum demand\n",
        "for i in products:\n",
        "    problem += quantities[i] >= min_demand[i], f\"Min_Demand_{i}\""
      ],
      "metadata": {
        "id": "RJSpD2pIrO_F"
      },
      "execution_count": 106,
      "outputs": []
    },
    {
      "cell_type": "markdown",
      "source": [
        "* Max Production Constraint: Ensures that the quantity produced for each product does not exceed its maximum production capacity.\n",
        "* Min Demand Constraint: Ensures that the quantity produced for each product meets its minimum demand."
      ],
      "metadata": {
        "id": "oQNq_WehIddA"
      }
    },
    {
      "cell_type": "code",
      "source": [
        "# Solve the problem\n",
        "problem.solve()"
      ],
      "metadata": {
        "colab": {
          "base_uri": "https://localhost:8080/"
        },
        "id": "zX9EeUPurQ7p",
        "outputId": "5da9c5fe-0ef5-4ccd-bcc0-c34ceaf23c5d"
      },
      "execution_count": 107,
      "outputs": [
        {
          "output_type": "execute_result",
          "data": {
            "text/plain": [
              "1"
            ]
          },
          "metadata": {},
          "execution_count": 107
        }
      ]
    },
    {
      "cell_type": "code",
      "source": [
        "# Print the results\n",
        "print(\"Status:\", pulp.LpStatus[problem.status])\n",
        "\n",
        "for i in products:\n",
        "    print(f\"{i}: Quantity = {quantities[i].varValue}, Cost per unit = {costs[i]}\")\n",
        "\n",
        "print(\"Total Cost = \", pulp.value(problem.objective))\n"
      ],
      "metadata": {
        "colab": {
          "base_uri": "https://localhost:8080/"
        },
        "id": "L4JzTEKjrSEc",
        "outputId": "5f62a2cd-b5e7-46b0-e4e4-4a8c4736b62a"
      },
      "execution_count": 108,
      "outputs": [
        {
          "output_type": "stream",
          "name": "stdout",
          "text": [
            "Status: Optimal\n",
            "Product_1: Quantity = 50.0, Cost per unit = 10\n",
            "Product_2: Quantity = 80.0, Cost per unit = 15\n",
            "Product_3: Quantity = 100.0, Cost per unit = 25\n",
            "Total Cost =  4200.0\n"
          ]
        }
      ]
    },
    {
      "cell_type": "markdown",
      "source": [
        "* pulp.LpStatus[problem.status]: Prints the status of the solution (e.g., Optimal).\n",
        "* quantities[i].varValue: Prints the optimal quantity to produce for each product.\n",
        "* pulp.value(problem.objective): Prints the total cost associated with the optimal solution."
      ],
      "metadata": {
        "id": "xEkmVmDUIttC"
      }
    }
  ]
}